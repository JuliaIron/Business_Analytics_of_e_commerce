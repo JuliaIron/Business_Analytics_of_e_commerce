{
 "cells": [
  {
   "cell_type": "markdown",
   "id": "0de6cc42",
   "metadata": {},
   "source": [
    "# Olist: business analysis "
   ]
  },
  {
   "cell_type": "markdown",
   "id": "8b91c2ca",
   "metadata": {},
   "source": [
    "#### Contributors: Ayse, Darinka, Julia"
   ]
  },
  {
   "cell_type": "markdown",
   "id": "80196b82",
   "metadata": {},
   "source": [
    "## Table of contents\n",
    "\n",
    "1. [Introduction](#introduction)\n",
    "2. [Business Problem Statement](#BusinessProblemStatement)\n",
    "3. [Tools](#tools)\n",
    "4. [Workflow](#workflow)\n",
    "5. [Insights](#insights)\n",
    "6. [Repository contents](#repositoryContents) "
   ]
  },
  {
   "cell_type": "markdown",
   "id": "90deefca",
   "metadata": {},
   "source": [
    "## Introduction <a class=\"anchor\" id=\"Introduction\"></a>\n",
    "\n",
    "This is a data analytics project focusing on business intelligence (BI). We set out to create a BI dashboard for Olist,the largest department store in the Brazilian marketplace. The dataset used is Olist public dataset of around 100,000 orders made between 2016 and 2018. The dataset structure can be seen below."
   ]
  },
  {
   "cell_type": "markdown",
   "id": "143bfd98",
   "metadata": {},
   "source": [
    "<div>\n",
    "<img src=\"https://i.imgur.com/HRhd2Y0.png\" width=\"800\"/>\n",
    "</div>"
   ]
  },
  {
   "cell_type": "markdown",
   "id": "8fbe72e1",
   "metadata": {},
   "source": [
    "#### Data Source:\n",
    "https://www.kaggle.com/olistbr/brazilian-ecommerce\n",
    "(2018), Olist Store"
   ]
  },
  {
   "cell_type": "markdown",
   "id": "e154a48c",
   "metadata": {},
   "source": [
    "#### About Olist"
   ]
  },
  {
   "cell_type": "markdown",
   "id": "801603c0",
   "metadata": {},
   "source": [
    "Founded: 2015\n",
    "\n",
    "Company type: e-commerce\n",
    "\n",
    "Olist, \"marketplace of marketplaces\", is an e-commerce company founded in February 2015. Its model is particularly attractive to micro and small merchants, usually reliant on physical stores, which face obstacles in integrating into the larger (virtual) market. With Olist, they can register their products on its platform and don't have to worry about advertising or driving sales. Once their product is sold on Olist, the sellers are in charge of packing and placing the order at the post office for delivery. On the other hand, Olist charges merchants an annual subscription, plus a commission fee on the final price of the order. Olist does not offer inventory nor product shipping. "
   ]
  },
  {
   "cell_type": "markdown",
   "id": "3c9e367f",
   "metadata": {},
   "source": [
    "## Business problem statement <a class=\"anchor\" id=\"BusinessProblemStatement\"></a>\n",
    "\n",
    "In an imagined scenario, we hypothesized that Olist had completely changed its top management and would like to get the latest update on their performance. This includes:\n",
    "\n",
    "* definition of KPIs and providing with general insights\n",
    "* the most recent overview of business performance \n",
    "* advice and longterm business strategy to increase profits and sustain good customer satisfaction levels\n",
    "* deliver further information that would help Olist become a leader in the e-commerce market"
   ]
  },
  {
   "cell_type": "markdown",
   "id": "f7fbd2ab",
   "metadata": {},
   "source": [
    "## Tools <a class=\"anchor\" id=\"tools\"></a>\n",
    "\n",
    "* Python \n",
    "* SQL\n",
    "* Tableau\n",
    "\n",
    "* Libraries used (pandas, sqlalchemy...)"
   ]
  },
  {
   "cell_type": "markdown",
   "id": "8d15674a",
   "metadata": {},
   "source": [
    "## Workflow<a class=\"anchor\" id=\"workflow\"></a>\n",
    "\n",
    "We began with **gathering data**. In our case, we were provided with an SQL file which combined both Olist sales and marketing information. This allowed us to visually explore data in more detail and do further database querying. We also connected different tables in an ER, or entity-relationship diagram (see below). \n",
    "\n",
    "<div>\n",
    "<img src=\"https://github.com/plumeris/Mid-bootcamp-project/blob/main/ER.png?raw=true\" width=\"800\"/>\n",
    "</div>\n",
    "\n",
    "For the **data cleaning** part, we further explored SQL tables in Python. Using Pandas, we examined the dataset for missing or skewed values. Since the dataset was very large we singled out the following tables:\n",
    "\n",
    "- Customer\n",
    "- Orders\n",
    "- Products\n",
    "- Sellers\n",
    "- Order_Payments\n",
    "- Order_Items\n",
    "- Geolocation\n",
    "- Orders_customer_items_paid\n",
    "\n",
    "For each of these individual dataframes we:\n",
    "\n",
    "- replaced null values with average or median for numerical columns\n",
    "- dropped null values for datetime values\n",
    "- dropped duplicates in geographical data\n",
    "- translated the product category table into English and merged it with the products dataframe\n",
    "- exported cleaned tables into CSV files\n",
    "\n",
    "Then followed trial exploratory data analysis, or **EDA and defining KPIs**. Among other, we were interested in sales revenue and growth, customer and seller performance by location, average delivery times, etc. As we explored our data, we accordingly iterated over the indicators (see final dashboard).  \n",
    "\n",
    "The **data visualization** followed in **Tableau**, where we created a final BI dashboard."
   ]
  },
  {
   "cell_type": "markdown",
   "id": "9b1ba229",
   "metadata": {},
   "source": [
    "## Insights<a class=\"anchor\" id=\"insights\"></a>\n",
    "\n",
    "#### Sales\n",
    "\n",
    "Looking at the sales development we noticed that revenues peaked during usual e-commerce dates like Black Friday, Christmas, or Valentines Day (June 12th in Brazil). Sales and orders tend to develop at an identical pace. In general, more growth is expected for Olist in the future.\n",
    "\n",
    "#### Orders\n",
    "\n",
    "The distribution of top-selling product categories remains similar across different regions. Southeast Brazil stands out as the largest market which is no surprise considering that it is the cultural and economic hub of the country with the largest cities: São Paulo, Rio de Janeiro, and Belo Horizonte. \n",
    "\n",
    "Interestingly, the vast majority of all orders (over 80%) contains only 1 item. The highest selling product categories are \n",
    "bed_bath_table, health_beauty, watches_gifts.\n",
    "\n",
    "#### Sellers\n",
    "\n",
    "Comparing the ratio of sellers to the amount of orders, we noticed that some product categories perform extremely well and have a higher demand that could be developed further, either by involving more similar merchants or expanding the product palette. One example is the bed-bath-table product category which also stands out with the longest delivery delays, presumably because it is difficult for small shopkeepers to meet the market demand. \n",
    "\n",
    "The top sellers (20,000 orders) are all located in the affluent Southeast region, but interestingly one top seller is located in the north with around 400 orders. There is definitely an opportunity to jumpstart this market.\n",
    "\n",
    "\n",
    "#### Delivery times\n",
    "\n",
    "An important factor causing delivery delays is the seller location. The shops in the north, for example, are slower to process their orders within the average shipping time. Similarly, even though there are more merchants in the southeast, the customers there are also experiencing short delays, possibly because of population density and fast demand. Luckily for Olist, customers are overall satisfied with its service. The average rating is 4 on a scale 1-5.\n",
    "\n",
    "\n",
    "#### Conclusion and recommendations\n",
    "\n",
    "Without doubt, Olist is a fast growing e-commerce company that has the potential to become a giant in the Brazilian market. Its main strength lies with the small shopkeepers which previously have not benefited from the world of online sales. We suggest Olist should:\n",
    "\n",
    "- involve even more small businesses and integrate them into the growing market\n",
    "- improve delivery times by for example investing in strategically positioned logistics hubs or otherwise improve delivery and pick-up systems\n",
    "- establish shorter routes and accomodate a larger number of local producers\n",
    "- encourage customers to buy more items at once\n",
    "- pursue a more sustainable business model"
   ]
  },
  {
   "cell_type": "markdown",
   "id": "4b04645c",
   "metadata": {},
   "source": [
    "## Repository contents<a class=\"anchor\" id=\"repositoryContents\"></a>\n"
   ]
  },
  {
   "cell_type": "markdown",
   "id": "87d86f3b",
   "metadata": {},
   "source": [
    "* Cleaned dataset\n",
    "* Jupyter notebook\n",
    "* SQL: EER model\n",
    "* Tableau dashboard"
   ]
  }
 ],
 "metadata": {
  "kernelspec": {
   "display_name": "Python 3",
   "language": "python",
   "name": "python3"
  },
  "language_info": {
   "codemirror_mode": {
    "name": "ipython",
    "version": 3
   },
   "file_extension": ".py",
   "mimetype": "text/x-python",
   "name": "python",
   "nbconvert_exporter": "python",
   "pygments_lexer": "ipython3",
   "version": "3.9.6"
  }
 },
 "nbformat": 4,
 "nbformat_minor": 5
}
