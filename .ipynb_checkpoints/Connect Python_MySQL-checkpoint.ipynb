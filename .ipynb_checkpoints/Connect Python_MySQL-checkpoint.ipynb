{
 "cells": [
  {
   "cell_type": "markdown",
   "id": "98141469",
   "metadata": {},
   "source": [
    "#### Libraries"
   ]
  },
  {
   "cell_type": "code",
   "execution_count": 1,
   "id": "7d5eb017",
   "metadata": {},
   "outputs": [],
   "source": [
    "import pandas as pd\n",
    "import numpy as np"
   ]
  },
  {
   "cell_type": "code",
   "execution_count": 2,
   "id": "5829c50a",
   "metadata": {},
   "outputs": [],
   "source": [
    "import getpass\n",
    "import sqlalchemy as sa\n",
    "\n",
    "# sqlalchemy is a \"toolkit\" that allows access to SQL databases through python. SQL tables can be queried and directly brought to python objects"
   ]
  },
  {
   "cell_type": "markdown",
   "id": "aa001210",
   "metadata": {},
   "source": [
    "#### Connecting to MYSQL and extracting tables from database"
   ]
  },
  {
   "cell_type": "code",
   "execution_count": 3,
   "id": "6aae7e01",
   "metadata": {},
   "outputs": [
    {
     "name": "stdout",
     "output_type": "stream",
     "text": [
      "Your password:········\n"
     ]
    }
   ],
   "source": [
    "driver = 'mysql+pymysql'\n",
    "user = 'root'\n",
    "password = getpass.getpass(prompt='Your password:'\"\")\n",
    "ip = '127.0.0.1'"
   ]
  },
  {
   "cell_type": "code",
   "execution_count": 4,
   "id": "4b74038e",
   "metadata": {},
   "outputs": [],
   "source": [
    "connection_string = f'{driver}://{user}:{password}@{ip}'"
   ]
  },
  {
   "cell_type": "code",
   "execution_count": 5,
   "id": "b7dc0756",
   "metadata": {},
   "outputs": [],
   "source": [
    "db_connection = sa.create_engine(connection_string)"
   ]
  },
  {
   "cell_type": "code",
   "execution_count": 6,
   "id": "e4656fc7",
   "metadata": {},
   "outputs": [
    {
     "name": "stdout",
     "output_type": "stream",
     "text": [
      "['apps', 'bank', 'information_schema', 'lab_db', 'lab_db_python_sql', 'lab_erd', 'lab_group_db', 'lab_st_p', 'mysql', 'performance_schema', 'sakila', 'sys', 'world']\n"
     ]
    }
   ],
   "source": [
    "insp = sa.inspect(db_connection)\n",
    "db_list = insp.get_schema_names()\n",
    "print(db_list)"
   ]
  },
  {
   "cell_type": "markdown",
   "id": "cdf53446",
   "metadata": {},
   "source": [
    "Retreving data into Python object (without Pandas)"
   ]
  },
  {
   "cell_type": "code",
   "execution_count": null,
   "id": "bf16cf63",
   "metadata": {},
   "outputs": [],
   "source": [
    "result = db_connection.execute('SELECT * FROM bank.loan')\n",
    "result\n",
    "for row in result:\n",
    "    print(row)"
   ]
  },
  {
   "cell_type": "markdown",
   "id": "1ff0a354",
   "metadata": {},
   "source": [
    "Retriving data from MYSQL into Pandas Data Frame"
   ]
  },
  {
   "cell_type": "code",
   "execution_count": null,
   "id": "7e26f52c",
   "metadata": {},
   "outputs": [],
   "source": [
    "query=\"SELECT * FROM bank.loan Inner Join bank.Account on loan.account_id=account.account_id\"\n",
    "bank_loans = pd.read_sql_query(query, db_connection)\n",
    "bank_loans.head()"
   ]
  },
  {
   "cell_type": "markdown",
   "id": "d2ebf8bd",
   "metadata": {},
   "source": [
    "Inspect the Data Base"
   ]
  },
  {
   "cell_type": "code",
   "execution_count": null,
   "id": "d2067748",
   "metadata": {},
   "outputs": [],
   "source": [
    "insp = sa.inspect(db_connection)\n",
    "db_list = insp.get_schema_names()\n",
    "print(db_list)"
   ]
  },
  {
   "cell_type": "markdown",
   "id": "aeab2241",
   "metadata": {},
   "source": [
    "#### Save Pandas Data Frame to MYSQL Database"
   ]
  },
  {
   "cell_type": "code",
   "execution_count": null,
   "id": "3c0e799d",
   "metadata": {},
   "outputs": [],
   "source": [
    "test_table.to_sql(name=\"clean_df\", con=db_connection, schema=\"lab_db_python_sql\")"
   ]
  }
 ],
 "metadata": {
  "kernelspec": {
   "display_name": "Python 3",
   "language": "python",
   "name": "python3"
  },
  "language_info": {
   "codemirror_mode": {
    "name": "ipython",
    "version": 3
   },
   "file_extension": ".py",
   "mimetype": "text/x-python",
   "name": "python",
   "nbconvert_exporter": "python",
   "pygments_lexer": "ipython3",
   "version": "3.9.6"
  }
 },
 "nbformat": 4,
 "nbformat_minor": 5
}
